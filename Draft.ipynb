{
 "cells": [
  {
   "cell_type": "markdown",
   "id": "22cacc6b",
   "metadata": {},
   "source": [
    "### Trial for chatbot using Tavily and LangGraph and Gemini"
   ]
  },
  {
   "cell_type": "code",
   "execution_count": null,
   "id": "dbb9034f",
   "metadata": {},
   "outputs": [],
   "source": [
    "import os\n",
    "import requests\n",
    "from dotenv import load_dotenv\n",
    "from google import genai\n",
    "from google.genai import types\n",
    "from groq import Groq\n",
    "from linkup import LinkupClient\n",
    "from openai import OpenAI\n",
    "from pydantic import BaseModel\n",
    "from typing import Dict"
   ]
  },
  {
   "cell_type": "code",
   "execution_count": null,
   "id": "c5203aa1",
   "metadata": {},
   "outputs": [],
   "source": [
    "TavilyKey = os.getenv(\"TAVILY_API_KEY\")\n",
    "GroqKey = os.getenv(\"GROQ_API_KEY\")\n",
    "Groq_client = Groq(api_key=GroqKey)"
   ]
  },
  {
   "cell_type": "code",
   "execution_count": null,
   "id": "67291dd1",
   "metadata": {},
   "outputs": [],
   "source": [
    "def llm_response(client: Groq | OpenAI , sys_msg: str, user_qn: str,\n",
    "              model: str = \"llama-3.3-70b-versatile\",\n",
    "              temperature: int = 0, top_p: int = 1, max_tokens: int = 1024, is_json: bool=True) -> str:\n",
    "    \n",
    "    if is_json:\n",
    "      json_output={\n",
    "           \"type\": \"json_schema\",\n",
    "           \"json_schema\":{\n",
    "                \"schema\": {\n",
    "                    \"type\": \"object\",\n",
    "                    \"properties\": {\n",
    "                        \"Explanation\": {\n",
    "                            \"type\": \"string\",\n",
    "                            \"description\": \"logical analysis of question with reasoning\"\n",
    "                        },\n",
    "                        \"Answer\": {\n",
    "                            \"type\": \"string\",\n",
    "                            \"description\": \"Only either True or False, determined based on analysis in explanation. No other text allowed\",\n",
    "                            \"enum\": [\"True\", \"False\"]\n",
    "                        }\n",
    "                    },\n",
    "                    \"required\": [\"Explanation\", \"Answer\"],\n",
    "                    \"additionalProperties\": False\n",
    "                },\n",
    "                \"strict\": True\n",
    "            }\n",
    "        }\n",
    "    else:\n",
    "      json_output=None\n",
    "\n",
    "    chat_completion = client.chat.completions.create(\n",
    "        messages=[\n",
    "            # Sets system message. This sets the behavior of the\n",
    "            # assistant and can be used to provide specific instructions for\n",
    "            # how it should behave throughout the conversation.\n",
    "            {\n",
    "             \"role\": \"system\",\n",
    "             \"content\": sys_msg\n",
    "            },\n",
    "            # Set a user message for the assistant to respond to.\n",
    "            {\n",
    "             \"role\": \"user\",\n",
    "             \"content\": f\"<question_list> {user_qn} </question_list>\",\n",
    "            }\n",
    "        ],\n",
    "\n",
    "        # The language model which will generate the completion.\n",
    "        model=model,\n",
    "\n",
    "        # Controls randomness: lowering results in less random completions.\n",
    "        # As the temperature approaches zero, the model will become deterministic\n",
    "        # and repetitive.\n",
    "        temperature=temperature,\n",
    "\n",
    "        # The maximum number of tokens to generate. Requests can use up to\n",
    "        # 32,768 tokens shared between prompt and completion.\n",
    "        max_completion_tokens=max_tokens,\n",
    "\n",
    "        # Controls diversity via nucleus sampling: 0.5 means half of all\n",
    "        # likelihood-weighted options are considered.\n",
    "        top_p=top_p,\n",
    "\n",
    "        # A stop sequence is a predefined or user-specified text string that\n",
    "        # signals an AI to stop generating content, ensuring its responses\n",
    "        # remain focused and concise. Examples include punctuation marks and\n",
    "        # markers like \"[end]\".\n",
    "        stop=None,\n",
    "\n",
    "        # If set, partial message deltas will be sent.\n",
    "        stream=False,\n",
    "        response_format = json_output\n",
    "        #response_format={\"type\":\"json_object\"}\n",
    "    )\n",
    "\n",
    "    return chat_completion.choices[0].message.content"
   ]
  },
  {
   "cell_type": "code",
   "execution_count": 3,
   "id": "b33e587e",
   "metadata": {},
   "outputs": [],
   "source": [
    "def linkupbalance(api:str)->Dict:\n",
    "    url = \"https://api.linkup.so/v1/credits/balance\"\n",
    "    headers = {\"Authorization\": f\"Bearer {api}\"}\n",
    "    response = requests.get(url, headers=headers)\n",
    "    return response.json().get('balance','Nil')"
   ]
  },
  {
   "cell_type": "code",
   "execution_count": 4,
   "id": "17de1c0b",
   "metadata": {},
   "outputs": [
    {
     "data": {
      "text/plain": [
       "4.825"
      ]
     },
     "execution_count": 4,
     "metadata": {},
     "output_type": "execute_result"
    }
   ],
   "source": [
    "linkupbalance(LinkupKey)"
   ]
  },
  {
   "cell_type": "code",
   "execution_count": 19,
   "id": "306ef773",
   "metadata": {},
   "outputs": [
    {
     "name": "stdout",
     "output_type": "stream",
     "text": [
      "No specific information about the key customers of Edwards Lifesciences in Singapore is available in the provided data.\n"
     ]
    }
   ],
   "source": [
    "# Comparing Tavily vs Linkup\n",
    "#Edward Lifesciences\n",
    "query = \"Key customers of the company Edward Lifesciences in Singapore?\"\n",
    "\n",
    "client = LinkupClient(api_key=LinkupKey)\n",
    "response = client.search(\n",
    "    query=query,\n",
    "    depth=\"standard\",\n",
    "    output_type=\"sourcedAnswer\",\n",
    "    include_images=False)\n",
    "\n",
    "print(response.answer)"
   ]
  },
  {
   "cell_type": "code",
   "execution_count": 20,
   "id": "fa26e6ea",
   "metadata": {},
   "outputs": [
    {
     "data": {
      "text/plain": [
       "[LinkupSource(name='Singapore | Edwards Lifesciences', url='https://www.edwards.com/careers/locations/singapore', snippet='Situated in the east of Singapore, our facilities are well-known for their modern equipment and processes to manufacture outstanding products. In recent years, we have doubled the size of our facilities by adding extra cleanrooms and supporting different process and product transfers.\\nundefined'),\n",
       " LinkupSource(name='Edwards Lifesciences | LinkedIn', url='https://sg.linkedin.com/company/edwards-lifesciences', snippet='Edwards Lifesciences | 295,827 followers on LinkedIn. Global leader in the medical device industry with a patient-focused culture of innovation | Edwards Lifesciences (NYSE: EW), is the global leader in patient-focused medical innovations for structural heart disease, as well as critical care ...\\nEdwards Lifesciences | 295,827 followers on LinkedIn. Global leader in the medical device industry with a patient-focused culture of innovation | Edwards Lifesciences (NYSE: EW), is the global leader in patient-focused medical innovations for structural heart disease, as well as critical care and surgical monitoring.\\nWill you be at #NSBE50? Stop by and meet the @Edwards Lifesciences team!\\nEdwards CEO Bernard Zovighian sat down with Paul LaViolette, Managing Partner & COO at SV Health Investors and a member of the Edwards board, at the LSI Emerging Medtech Summit 2024 in Dana Point, CA. The keynote conversation was an exploration of Edwards’ cutting-edge innovations in surgical and transcatheter technologies, our unique innovation strategy and patient focus, and the future of structural heart disease.\\nWe thrive on discovery and expanding the boundaries of medical technology, serving patients in 100+ countries, with the help of our employees in areas including Clinical Affairs, Quality Engineering, Research & Development, Regulatory Affairs, Sales & Marketing, corporate functions and more. Our roots date back to 1958 when Miles Lowell Edwards, a retired engineer with a background in hydraulics and fuel pump operations, set out to build the first artificial heart.'),\n",
       " LinkupSource(name='For Edwards Lifesciences, Singapore is integral to its ...', url='https://www.edb.gov.sg/en/business-insights/insights/for-edwards-lifesciences-singapore-is-integral-to-its-global-supply-chain-strategy.html', snippet='We cannot provide a description for this page right now\\nundefined')]"
      ]
     },
     "execution_count": 20,
     "metadata": {},
     "output_type": "execute_result"
    }
   ],
   "source": [
    "response.sources[:3]"
   ]
  },
  {
   "cell_type": "code",
   "execution_count": 21,
   "id": "3872b289",
   "metadata": {},
   "outputs": [
    {
     "data": {
      "text/plain": [
       "{'query': 'Key customers of the company Edward Lifesciences in Singapore?',\n",
       " 'follow_up_questions': None,\n",
       " 'answer': \"The retrieved data does not contain specific information about Edwards Lifesciences' key customers in Singapore. Edwards Lifesciences operates a manufacturing facility in Singapore that has been producing heart valves since 2005, primarily serving the broader Asia-Pacific region including Japan as part of their global supply chain strategy. The Singapore facility focuses on manufacturing artificial heart valves and medical devices that are distributed to healthcare providers and hospitals throughout the Asia-Pacific region, but the specific names of key customer hospitals, healthcare systems, or distributors in Singapore are not publicly disclosed in available sources. The company's customers would typically include major hospitals, cardiac surgery centers, and healthcare institutions that perform heart valve procedures and require hemodynamic monitoring equipment, but identifying the specific key customers would require access to Edwards Lifesciences' confidential customer relationship data.\",\n",
       " 'images': [],\n",
       " 'results': [{'url': 'https://www.edb.gov.sg/en/business-insights/insights/for-edwards-lifesciences-singapore-is-integral-to-its-global-supply-chain-strategy.html',\n",
       "   'title': 'For Edwards Lifesciences, Singapore is integral to its ...',\n",
       "   'content': 'Edwards Lifesciences, a global leader in heart valve technology, has been manufacturing heart valves in Singapore since 2005 to serve patients all over the world. The Asia-Pacific, including Japan, is a growth region for the US MNC, which has developed its Singapore site to play a key role in its “vertical integration strategy” of streamlining operations from production to distribution within the region. [...] # For Edwards Lifesciences, Singapore is integral to its global supply chain strategy\\n\\nFrom R&D to manufacturing and distribution capabilities to talent, Singapore’s MedTech ecosystem has added value to Edwards Lifesciences business – “and not just costs” says VP Eric Monzon.\\n\\n09 Dec 2024\\n09 Dec 2024\\n3\\n3 min read [...] Having the right talent has helped Edwards innovate and deliver quality to its customers from Singapore. About 98 per cent of the professionals, supervisors and technicians working in Singapore are local. Edwards has also harnessed automation and tapped into Singapore’s R&D ecosystem to improve productivity in its operations.',\n",
       "   'score': 0.67269784,\n",
       "   'raw_content': '[Skip to main content](#main-content)\\n\\n6\\n\\n\\n\\n[A Singapore Government Agency Website](https://www.gov.sg/)\\n\\n**Official website links end with .gov.sg**\\n\\nGovernment agencies communicate via **.gov.sg** websites (e.g. go.gov.sg/open). [Trusted websites](https://go.gov.sg/trusted-sites)\\n\\n**Secure websites use HTTPS**\\n\\nLook for a **lock** () or https:// as an added precaution. Share sensitive information only on official, secure websites.\\n\\nTry the improved search!\\n\\n##### For Edwards Lifesciences, Singapore is integral to its global supply chain strategy\\n\\n# For Edwards Lifesciences, Singapore is integral to its global supply chain strategy\\n\\nFrom R&D to manufacturing and distribution capabilities to talent, Singapore’s MedTech ecosystem has added value to Edwards Lifesciences business – “and not just costs” says VP Eric Monzon.\\n\\n09 Dec 2024\\n09 Dec 2024\\n3\\n3 min read\\n\\n\"While Singapore will never be the cheapest location to build a manufacturing site, people tend to forget that Singapore has the right ecosystem to basically add a lot of value to business and not just costs.\"\\n\\nEric Monzon\\n\\nVice President and General Manager\\n\\nEdwards Lifesciences in Singapore\\n\\nDemand for MedTech solutions in Asia is expected to reach US$225 billion (S$302.06 billion) by 2030, with more than 60 per cent of the world\\'s population residing in the region by 2030, and one in four aged 60 or above with increased risk of chronic disease. Singapore’s strategic location as the gateway to Asia, coupled with its skilled talent pool and government support make it an ideal place for MedTech manufacturing and innovation.\\n\\nOver 120 companies – including the top 30 MedTech multinational corporations (MNCs) globally – have a presence in Singapore. These companies engage in a range of activities from manufacturing to research and development (R&D), and have more than 30 plants across key sub-segments such as medical equipment and life sciences tools. They are supported by a strong supplier network and an emerging ecosystem of startups.\\n\\n*keyboard\\\\_arrow\\\\_right*\\n\\n##### Discover why Singapore is the preferred base for MedTech companies keen to serve the region\\'s growing healthcare needs\\n\\n#### **Singapore is a critical link in the JAPAC supply chain**\\n\\nEdwards Lifesciences, a global leader in heart valve technology, has been manufacturing heart valves in Singapore since 2005 to serve patients all over the world. The Asia-Pacific, including Japan, is a growth region for the US MNC, which has developed its Singapore site to play a key role in its “vertical integration strategy” of streamlining operations from production to distribution within the region.\\n\\nLike other MNCs, MedTech companies that have consolidated multiple stages of their supply chain within the city-state have seen lower costs and increased efficiencies. Singapore’s facilitative government policies have also made a difference to Edwards.\\n\\nSays Monzon: “If I look at Singapore, what we are doing here, partnering with the government, the ecosystem that the government has created in supporting all the different industries, this is something that you don\\'t see in other countries. And that\\'s the reason why Edwards continues to grow in Singapore; that is why Singapore is so important to us.”\\n\\n*play\\\\_circle\\\\_filled*\\n\\n#### **How talent drives quality and innovation**\\n\\nHaving the right talent has helped Edwards innovate and deliver quality to its customers from Singapore. About 98 per cent of the professionals, supervisors and technicians working in Singapore are local. Edwards has also harnessed automation and tapped into Singapore’s R&D ecosystem to improve productivity in its operations.\\n\\nUnder its [Research, Innovation, and Enterprise (RIE) 2025 plan](https://file.go.gov.sg/rie-2025-handbook.pdf), Singapore has earmarked S$25 billion to support R&D initiatives across different sectors, with an additional S$3 billion in four strategic domains. These are Manufacturing, Trade and Connectivity; Human Health and Potential; Urban Solutions and Sustainability and Smart Nation and Digital Economy.\\n\\nSince last year, Edwards’ has partnered with the Agency for Science, Technology and Research ([A\\\\*STAR](https://www.a-star.edu.sg/artc/)) to explore new technologies that can expedite the development of its own automation system. Product automation “actually brings a lot of value to our industry and to our company,” says Monzon.\\n\\n“The impact of the MedTech industry encompasses improving the quality of life as well as actually saving lives,” he says.\\n\\n*Talking Business is a video series featuring senior executives sharing about why Singapore is the preferred location for their business operations. Watch our interviews [here](https://www.youtube.com/playlist?list=PLdNRX8lTdN_BUtl-Dr4viTYENNlgObLkQ).*\\n\\n##### Topics\\n\\n[Healthcare](/en/business-insights/healthcare.html)\\n\\n[Advanced Manufacturing](/en/business-insights/advanced-manufacturing.html)\\n\\n[Supply Chain](/en/business-insights/supplychain.html)\\n\\n## Related Content\\n\\nHealthcare\\n\\n### Why the world’s top MedTech companies are investing more in Asia\\n\\n03 Jun 2025\\n7 min read\\n\\nHealthcare\\n\\n### How Singapore’s robust supplier ecosystem is powering the growth plans of MedTech manufacturers\\n\\n03 Sep 2024\\n5 min read\\n\\nHealthcare\\n\\n### New manufacturing facility, task force set up as Singapore ups game in cell and gene therapy\\n\\n05 Aug 2023\\n6 min read\\n\\nHealthcare\\n\\n### Singapore-based firm Biosyngen opens new manufacturing facility, set to hire 200 people\\n\\n29 Jun 2023\\n2 min read\\n\\nThe latest business insights and news delivered to your inbox\\n\\nSubscribe now\\n\\n##### **You Are Now Subscribed.**\\n\\n##### \\n\\nWelcome to the EDB INSIGHTS community.  \\nWe have delivered a welcome note to your registered email.\\n\\nKindly check your junk mail folder if you do not see the email in your inbox.\\n\\nTo ensure our emails continue to reach your inbox instead of the junk mail folder, please safelist our email address by following this step-by-step guide.\\n\\n[View insights](/en/business-insights/insights.html)\\n\\n\\n\\n## Subscribe to our e-newsletter for Market Insights, Industry Guides and Exclusive Events\\n\\n\\n\\n## Subscribe to our e-newsletter for Market Insights, Industry Guides and Exclusive Events\\n\\nMarket Insights\\n\\nIndustry Guides\\n\\nExclusive Events\\n\\nThe information collected will be kept confidential and will help us serve you better. All fields marked (\\\\*) are required when completing this form.\\n\\n[Subscribe](/en/subscription.html)'},\n",
       "  {'url': 'https://en.wikipedia.org/wiki/Edwards_Lifesciences',\n",
       "   'title': 'Edwards Lifesciences',\n",
       "   'content': 'Edwards Lifesciences Corporation is an American medical technology company headquartered in Irvine, California, specializing in artificial heart valves and hemodynamic monitoring. It developed the Sapien transcatheter aortic heart valve made of cow tissue within a balloon-expandable, cobalt-chromium frame, deployed via catheter. The company has manufacturing facilities at the Irvine headquarters, as well as in Draper, Utah; Costa Rica; the Dominican Republic; Puerto Rico; and Singapore; and is [...] In 2020, Edwards co-sponsored the Virtual ISPOR-FDA Summit centred on patient preference information in medical device regulatory decisions.\\n\\nIn 2024, Edwards made agreements with Affluent Medical for an equity stake, IP licensing and an exclusive option to acquire its Kephalios subsidiary. The same month, Edwards announced it would acquire Innovalve Bio Medical for approximately $300 million, and JenaValve Technology and Endotronix for $1.2 billion.\\n\\n## Business segments\\n\\n[edit] [...] The Critical Care business segment includes pulmonary artery catheters, disposable pressure transducers and advanced hemodynamic monitoring systems. The portfolio also includes a line of balloon catheter-based vascular products, surgical clips and inserts. In 2023, it was announced that the critical care business unit was to be spun off into its own entity, however in 2024 the critical care department was purchased by BD \"BD (company)\") for $4.2 billion.\\n\\n## Organizational culture\\n\\n[edit]',\n",
       "   'score': 0.5191075,\n",
       "   'raw_content': '[Jump to content](#bodyContent)\\n\\n# Edwards Lifesciences\\n\\n* [Deutsch](https://de.wikipedia.org/wiki/Edwards_Lifesciences \"Edwards Lifesciences – German\")\\n* [فارسی](https://fa.wikipedia.org/wiki/%D8%A7%D8%AF%D9%88%D8%A7%D8%B1%D8%AF%D8%B2_%D9%84%D8%A7%DB%8C%D9%81%E2%80%8C%D8%B3%D8%A7%DB%8C%D9%86%D8%B3 \"ادواردز لایف\\u200cساینس – Persian\")\\n* [Français](https://fr.wikipedia.org/wiki/Edwards_Lifesciences \"Edwards Lifesciences – French\")\\n* [עברית](https://he.wikipedia.org/wiki/Edwards_Lifesciences \"Edwards Lifesciences – Hebrew\")\\n* [Romnă](https://ro.wikipedia.org/wiki/Edwards_Lifesciences \"Edwards Lifesciences – Romanian\")\\n* [Русский](https://ru.wikipedia.org/wiki/Edwards_Lifesciences \"Edwards Lifesciences – Russian\")\\n* [中文](https://zh.wikipedia.org/wiki/%E7%88%B1%E5%BE%B7%E5%8D%8E%E7%94%9F%E5%91%BD%E7%A7%91%E5%AD%A6 \"爱德华生命科学 – Chinese\")\\n\\n[Edit links](https://www.wikidata.org/wiki/Special:EntityPage/Q16966841#sitelinks-wikipedia \"Edit interlanguage links\")\\n\\nFrom Wikipedia, the free encyclopedia\\n\\nAmerican biotechnology company\\n\\nEdwards Lifesciences Corporation\\n\\n|  | |\\n| Company type | [Public](/wiki/Public_company \"Public company\") |\\n| [Traded as](/wiki/Ticker_symbol \"Ticker symbol\") | * [NYSE](/wiki/New_York_Stock_Exchange \"New York Stock Exchange\"):\\xa0[EW](https://www.nyse.com/quote/XNYS:EW) * [S&P 500](/wiki/S%26P_500 \"S&P 500\") component |\\n| Industry | [Medical technology](/wiki/Medical_technology \"Medical technology\") |\\n| Founded | 1958; 67\\xa0years ago\\xa0(1958) |\\n| Headquarters | [Irvine, California](/wiki/Irvine,_California \"Irvine, California\"), U.S. |\\n| Area served | Worldwide |\\n| Key people | Bernard J. Zovighian (CEO) |\\n| Products | * [Heart valves](/wiki/Artificial_heart_valves \"Artificial heart valves\") * [Critical care technology](/wiki/Intensive_care_medicine \"Intensive care medicine\") * [Cardiac surgery technology](/wiki/Cardiac_surgery \"Cardiac surgery\") |\\n| Revenue | [US$](/wiki/United_States_dollar \"United States dollar\")5.44\\xa0billion (2024) |\\n| [Operating income](/wiki/Earnings_before_interest_and_taxes \"Earnings before interest and taxes\") | US$1.38\\xa0billion (2024) |\\n| [Net income](/wiki/Net_income \"Net income\") | US$4.17\\xa0billion (2024) |\\n| [Total assets](/wiki/Asset \"Asset\") | US$13.1\\xa0billion (2024) |\\n| [Total equity](/wiki/Equity_(finance) \"Equity (finance)\") | US$10.1\\xa0billion (2024) |\\n| Number of employees | 15,800 (2024) |\\n| Website | [edwards.com](http://edwards.com) |\\n| **Footnotes\\xa0/ references** [[1]](#cite_note-1)[[2]](#cite_note-2) | |\\n\\n**Edwards Lifesciences Corporation** is an American medical technology company headquartered in [Irvine](/wiki/Irvine,_California \"Irvine, California\"), [California](/wiki/California \"California\"), specializing in artificial [heart valves](/wiki/Heart_valves \"Heart valves\") and [hemodynamic](/wiki/Hemodynamic \"Hemodynamic\") monitoring. It developed the Sapien transcatheter aortic heart valve made of cow tissue within a balloon-expandable, cobalt-chromium frame, deployed via [catheter](/wiki/Catheter \"Catheter\").[[3]](#cite_note-3) The company has manufacturing facilities at the Irvine headquarters, as well as in [Draper](/wiki/Draper,_Utah \"Draper, Utah\"), [Utah](/wiki/Utah \"Utah\"); [Costa Rica](/wiki/Costa_Rica \"Costa Rica\"); the [Dominican Republic](/wiki/Dominican_Republic \"Dominican Republic\"); [Puerto Rico](/wiki/Puerto_Rico \"Puerto Rico\"); and [Singapore](/wiki/Singapore \"Singapore\");[[4]](#cite_note-4) and is building a new facility completed in 2021 in [Limerick](/wiki/Limerick \"Limerick\"), [Ireland](/wiki/Ireland \"Ireland\").[[5]](#cite_note-5)\\n\\n## History\\n\\n[[edit](/w/index.php?title=Edwards_Lifesciences&action=edit&section=1 \"Edit section: History\")]\\n\\nThe Edwards Lifesciences Foundation was originally founded by electrical engineer Miles \"Lowell\" Edwards in 1958, a graduate of [Oregon State University](/wiki/Oregon_State_University \"Oregon State University\").[[6]](#cite_note-6) Edwards invented the first medically proven and adopted [artificial heart valve](/wiki/Artificial_heart_valve \"Artificial heart valve\"). Dr. [Albert Starr](/wiki/Albert_Starr \"Albert Starr\"), a surgeon at the [Oregon Health and Sciences University](/wiki/Oregon_Health_and_Sciences_University \"Oregon Health and Sciences University\"), is credited as the first to successfully implant the Starr-Edwards mitral valve in a patient in 1960.[[7]](#cite_note-7) As a result of the successful heart implant, Edwards established his foundation in [Santa Ana, California](/wiki/Santa_Ana,_California \"Santa Ana, California\") the same year to continue his research in pulmonary devices.[[8]](#cite_note-8)\\n\\nEdward\\'s valves are still in operation today. An early patient lived a record 48 years with the implant before requiring a replacement.[[9]](#cite_note-9)\\n\\nEdwards was acquired by [Baxter](/wiki/Baxter_International \"Baxter International\") in 1985. It was spun off from Baxter in 2000.[[10]](#cite_note-10)\\n\\nIn 2017, Edwards completed the acquisition of Valtech Cardio for $340 million.[[11]](#cite_note-11) Also in 2017, Edwards acquired Harpoon Medical of [Baltimore](/wiki/Baltimore \"Baltimore\"), [Maryland](/wiki/Maryland \"Maryland\") for $100 million. Harpoon, founded in 2013, developed a [minimally invasive heart surgery](/wiki/Minimally_invasive_heart_surgery \"Minimally invasive heart surgery\") product for [mitral valve repair](/wiki/Mitral_valve_repair \"Mitral valve repair\")[[12]](#cite_note-12) to treat degenerative [mitral regurgitation](/wiki/Mitral_regurgitation \"Mitral regurgitation\"). At the time of the acquisition, the product was not available on any market.[[13]](#cite_note-13)\\n\\nOn April 18, 2019, Edwards completed the acquisition of CAS Medical Systems of [Branford](/wiki/Branford,_Connecticut \"Branford, Connecticut\"), [Connecticut](/wiki/Connecticut \"Connecticut\") for ~$100 million.[[14]](#cite_note-14)\\n\\nEdwards Sapien 3 and Sapien 3 Ultra Transcatheter Heart Valve systems were [FDA](/wiki/FDA \"FDA\")-approved for the treatment of patients at low risk for death or major complications associated with open-heart surgery on August 16, 2019.[[15]](#cite_note-15) These products are used to treat patients with severe [aortic stenosis](/wiki/Aortic_stenosis \"Aortic stenosis\") without utilizing [open-heart surgery](/wiki/Cardiac_surgery#Open-heart_surgery \"Cardiac surgery\").[[16]](#cite_note-16)\\n\\nIn 2020, Edwards co-sponsored the Virtual [ISPOR](/wiki/ISPOR \"ISPOR\")-[FDA](/wiki/FDA \"FDA\") Summit centred on patient preference information in [medical device](/wiki/Medical_device \"Medical device\") regulatory decisions.[[17]](#cite_note-17)\\n\\nIn 2024, Edwards made agreements with Affluent Medical for an equity stake, IP licensing and an exclusive option to acquire its Kephalios subsidiary.[[18]](#cite_note-18) The same month, Edwards announced it would acquire Innovalve Bio Medical for approximately $300 million, and JenaValve Technology and Endotronix for $1.2 billion.[[19]](#cite_note-19)[[20]](#cite_note-20)\\n\\n## Business segments\\n\\n[[edit](/w/index.php?title=Edwards_Lifesciences&action=edit&section=2 \"Edit section: Business segments\")]\\n\\nIts products are categorized into four areas: surgical valve technologies, transcatheter heart valves, transcatheter mitral and tricuspid therapies, and critical care.[[21]](#cite_note-21)[[22]](#cite_note-22)\\n\\n### Transcatheter Heart Valve\\n\\n[[edit](/w/index.php?title=Edwards_Lifesciences&action=edit&section=3 \"Edit section: Transcatheter Heart Valve\")]\\n\\nEdwards introduced the transcatheter heart valve replacement procedure to U.S. patients unable to undergo open-heart surgery with FDA approval of the Sapien transcatheter valve in 2011.[[23]](#cite_note-23) The indication was expanded in November 2012 to include patients at a high risk for death or serious complications associated with open-heart surgery.[[24]](#cite_note-24)\\n\\n### Transcatheter Mitral and Tricuspid Therapies\\n\\n[[edit](/w/index.php?title=Edwards_Lifesciences&action=edit&section=4 \"Edit section: Transcatheter Mitral and Tricuspid Therapies\")]\\n\\nThe Transcatheter Mitral and Tricuspid Therapies business segment involves the research and development of transcatheter heart valve repair and replacement technologies designed to treat mitral and tricuspid valve diseases.[[25]](#cite_note-25) Many of these technologies are in early development and clinical phases, with seven programs and four clinical trials.[[26]](#cite_note-26)\\n\\n### Critical Care\\n\\n[[edit](/w/index.php?title=Edwards_Lifesciences&action=edit&section=5 \"Edit section: Critical Care\")]\\n\\nThe Critical Care business segment includes pulmonary artery catheters, disposable pressure transducers and advanced hemodynamic monitoring systems. The portfolio also includes a line of balloon catheter-based vascular products, surgical clips and inserts. In 2023, it was announced that the critical care business unit was to be spun off into its own entity, however in 2024 the critical care department was purchased by [BD](/wiki/BD_(company) \"BD (company)\") for $4.2 billion.[[27]](#cite_note-CritCare2024-27)[[28]](#cite_note-forbes15-28)\\n\\n## Organizational culture\\n\\n[[edit](/w/index.php?title=Edwards_Lifesciences&action=edit&section=6 \"Edit section: Organizational culture\")]\\n\\n### Edwards Lifesciences Foundation\\n\\n[[edit](/w/index.php?title=Edwards_Lifesciences&action=edit&section=7 \"Edit section: Edwards Lifesciences Foundation\")]\\n\\nThe Edwards Lifesciences Foundation launched in 2014 and supports programs designed to treat underserved people to reduce heart valve disease.[[29]](#cite_note-cardio1-29)\\n\\nThe “Every Heartbeat Matters” (EHM) initiative has educated, screened and treated 1.7 million underserved people, exceeding its goal of serving 1 million underserved patients.[[29]](#cite_note-cardio1-29)[[30]](#cite_note-30)\\n\\n## References\\n\\n[[edit](/w/index.php?title=Edwards_Lifesciences&action=edit&section=8 \"Edit section: References\")]\\n\\n1. **[^](#cite_ref-1 \"Jump up\")** [\"Edwards Lifesciences 2024 Annual Report (Form 10-K)\"](https://www.sec.gov/ix?doc=/Archives/edgar/data/0001099800/000109980025000005/ew-20241231.htm). U.S. Securities and Exchange Commission. February 28, 2025.\\n2. **[^](#cite_ref-2 \"Jump up\")** [\"Edwards Lifesciences shares fall on Street-beating Q1 results\"](https://www.massdevice.com/edwards-lifesciences-shares-fall-on-street-beating-q1-results/). 26 April 2022.\\n3. **[^](#cite_ref-3 \"Jump up\")** [\"Edwards Sapien 3 Transcatheter Heart Valve - P140031/S028\"](https://web.archive.org/web/20191214094358/https://www.fda.gov/medical-devices/recently-approved-devices/edwards-sapien-3-transcatheter-heart-valve-p140031s028). FDA. October 24, 2017. Archived from [the original](https://www.fda.gov/medical-devices/recently-approved-devices/edwards-sapien-3-transcatheter-heart-valve-p140031s028) on December 14, 2019.\\n4. **[^](#cite_ref-4 \"Jump up\")** [\"Locations\"](https://www.edwards.com/careers/locations). Edwards Lifesciences. Retrieved 2020-01-03.\\n5. **[^](#cite_ref-5 \"Jump up\")** Kennedy, John (2019-04-05). [\"Edwards Lifesciences to create 600 extra jobs in Limerick\"](https://www.siliconrepublic.com/jobs/edwards-lifesciences-limerick-expansion). *Siliconrepublic.com*. [Archived](https://web.archive.org/web/20190408163853/http://www.siliconrepublic.com/jobs/edwards-lifesciences-limerick-expansion) from the original on 2019-04-08. Retrieved 2020-01-03.\\n6. **[^](#cite_ref-6 \"Jump up\")** [\"New OPB documentary profiles the Oregon-based inventors of the first successful artificial heart valve, a breakthrough in cardiac surgery\"](https://www.opb.org/pressroom/new-opb-documentary-profiles-the-oregon-based-inventors-of-the-first-successful-artificial-heart-valve-a-breakthrough-in-cardiac-surgery/). *opb.org*. OPB. Retrieved 19 May 2025.\\n7. **[^](#cite_ref-7 \"Jump up\")** Annette M. Matthews (February 1999). [\"The development of the Starr-Edwards heart valve\"](https://www.researchgate.net/publication/13079900). Texas Heart Institute Journal.\\n8. **[^](#cite_ref-8 \"Jump up\")** [\"Miles Lowell Edwards (1898-1982)\"](https://oregonencyclopedia.org/articles/edwards_lowell_1898_1982_/#.XjDKkmhKhPY). The Oregon Encyclopedia. January 27, 2020.\\n9. **[^](#cite_ref-9 \"Jump up\")** Dimitrakakis, Georgios (2021). [\"Starr–Edwards mitral valve—48 years till redo surgery, with over 54 years of patient survival after primary mitral valve replacement\"](https://www.ncbi.nlm.nih.gov/pmc/articles/PMC8691538). *Interactive Cardiovascular and Thoracic Surgery*. **33** (4). National Institutes of Health: 640–642. [doi](/wiki/Doi_(identifier) \"Doi (identifier)\"):[10.1093/icvts/ivab131](https://doi.org/10.1093%2Ficvts%2Fivab131). [PMC](/wiki/PMC_(identifier) \"PMC (identifier)\")\\xa0[8691538](https://www.ncbi.nlm.nih.gov/pmc/articles/PMC8691538). [PMID](/wiki/PMID_(identifier) \"PMID (identifier)\")\\xa0[33954795](https://pubmed.ncbi.nlm.nih.gov/33954795).\\n10. **[^](#cite_ref-10 \"Jump up\")** [\"Baxter To Spin-Off New Cardiovascular Company -- Edwards Lifesciences\"](https://www.pharmaceuticalonline.com/doc/baxter-to-spin-off-new-cardiovascular-company-0001). Pharmaceutical Online. January 19, 2000.\\n11. **[^](#cite_ref-11 \"Jump up\")** [\"Edwards Lifesciences Completes Acquisition of Valtech Cardio\"](https://www.dicardiology.com/content/edwards-lifesciences-completes-acquisition-valtech-cardio). Diagnostic and Interventional Cardiology (DAIC). 2017-01-25. [Archived](https://web.archive.org/web/20170129021833/https://www.dicardiology.com/content/edwards-lifesciences-completes-acquisition-valtech-cardio) from the original on 2017-01-29. Retrieved 2020-01-04.\\n12. **[^](#cite_ref-12 \"Jump up\")** Gantz, Sarah (2017-12-06). [\"Baltimore-based Harpoon Medical acquired for $100 million\"](http://www.baltimoresun.com/business/bs-md-ci-harpoon-medical-acquired-20171206-story.html). [Archived](https://web.archive.org/web/20181025125736/http://www.baltimoresun.com/business/bs-md-ci-harpoon-medical-acquired-20171206-story.html) from the original on 2018-10-25. Retrieved 2020-01-04.\\n13. **[^](#cite_ref-13 \"Jump up\")** [\"Harpoon Medical acquired by Edwards\"](https://cardiovascularnews.com/harpoon-medical-acquired-by-edwards/). *CardiovascularNews.com*. 2017-12-08. [Archived](https://web.archive.org/web/20200105033659/https://cardiovascularnews.com/harpoon-medical-acquired-by-edwards/) from the original on 2020-01-05. Retrieved 2020-01-04.\\n14. **[^](#cite_ref-14 \"Jump up\")** [\"Edwards Lifesciences Completes Acquisition of CASMED\"](https://www.marketwatch.com/press-release/edwards-lifesciences-completes-acquisition-of-casmed-2019-04-18). *MarketWatch.com*. PR Newswire. 2019-04-18. [Archived](https://web.archive.org/web/20200104054104/https://www.marketwatch.com/press-release/edwards-lifesciences-completes-acquisition-of-casmed-2019-04-18) from the original on 2020-01-04. Retrieved 2020-01-03.\\n15. **[^](#cite_ref-15 \"Jump up\")** [\"Edwards Sapien 3 Transcatheter Heart Valve System and Edwards Sapien 3 Ultra Transcatheter Heart Valve System - P140031/S085\"](https://web.archive.org/web/20190911182342/https://www.fda.gov/medical-devices/recently-approved-devices/edwards-sapien-3-transcatheter-heart-valve-system-and-edwards-sapien-3-ultra-transcatheter-heart). *FDA.gov*. U.S. Food & Drug Administration. 2019-08-16. Archived from [the original](https://www.fda.gov/medical-devices/recently-approved-devices/edwards-sapien-3-transcatheter-heart-valve-system-and-edwards-sapien-3-ultra-transcatheter-heart) on September 11, 2019. Retrieved 2019-12-30.\\n16. **[^](#cite_ref-16 \"Jump up\")** [\"Edwards Lifesciences\\' (EW) Sapien 3 TAVR Receives FDA Nod\"](https://finance.yahoo.com/news/edwards-lifesciences-ew-sapien-3-121812458.html). *Yahoo! Finance*. Zacks. 2019-08-19. Retrieved 2020-01-04.\\n17. **[^](#cite_ref-17 \"Jump up\")** [\"ISPOR-FDA Summit 2020\"](https://www.ispor.org/conferences-education/conferences/past-conferences/ispor-fda-summit-2020). *[ISPOR](/wiki/ISPOR \"ISPOR\")*. [Archived](https://archive.today/20220615174946/https://www.ispor.org/conferences-education/conferences/past-conferences/ispor-fda-summit-2020) from the original on 2022-06-15. Retrieved 2022-06-15.\\n18. **[^](#cite_ref-18 \"Jump up\")** Whooley, Sean (2024-07-12). [\"Affluent Medical signs $16.3M mitral valve deals with Edwards\"](https://www.massdevice.com/affluent-medical-15m-valve-deal-edwards/). *MassDevice*. Retrieved 2024-07-30.\\n19. **[^](#cite_ref-19 \"Jump up\")** Silverwood, Joshua (2024-07-16). [\"Edwards Lifesciences buys mitral valve business Innovalve in $300m deal\"](https://www.medicaldevice-network.com/news/edwards-lifesciences-buys-mitral-valve-business-innovalve-in-300m-deal/). *Medical Device Network*. Retrieved 2024-07-30.\\n20. **[^](#cite_ref-20 \"Jump up\")** Newmarker, Chris (2024-07-25). [\"Edwards Lifesciences to spend $1.2B on two more M&A deals\"](https://www.massdevice.com/edwards-lifesciences-buying-jenavalve-technology-endotronix/). *MassDevice*. Retrieved 2024-07-30.\\n21. **[^](#cite_ref-21 \"Jump up\")** [\"The 2018 Top 30 Global Medical Device Companies\"](https://www.mpo-mag.com/issues/2018-07-01/view_features/the-2018-top-30-global-medical-device-companies/). Medical Product Outsourcing. July 26, 2018.\\n22. **[^](#cite_ref-22 \"Jump up\")** [\"Wait For The Pullback To Buy Edwards Lifesciences\"](https://seekingalpha.com/article/4340419-wait-for-pullback-to-buy-edwards-lifesciences). Seeking Alpha. April 28, 2020.\\n23. **[^](#cite_ref-23 \"Jump up\")** [\"FDA approval for Edwards\\' Sapien device is a first for the U.S. market\"](https://www.massdevice.com/fda-approval-edwards-sapien-device-first-us-market/). MassDevice. November 3, 2011.\\n24. **[^](#cite_ref-24 \"Jump up\")** [\"FDA Approves The Sapien Transcatheter Heart Valve For High Risk Patients\"](https://www.cardiobrief.org/2012/10/19/fda-approves-the-sapien-transcatheter-heart-valve-for-high-risk-patients/). CardioBrief. October 19, 2012.\\n25. **[^](#cite_ref-25 \"Jump up\")** [\"Analysts cool expectations for Edwards\\' mitral performance\"](https://www.medtechdive.com/news/analysts-cool-expectations-for-edwards-mitral-performance/568602/). MedTech Dive. December 6, 2019.\\n26. **[^](#cite_ref-26 \"Jump up\")** [\"Edwards rolls out 2020 guidance with TAVR optimism, slow pace on mitral and tricuspid\"](https://www.bioworld.com/articles/431629-edwards-rolls-out-2020-guidance-with-tavr-optimism-slow-pace-on-mitral-and-tricuspid). BioWorld. December 6, 2019.\\n27. **[^](#cite_ref-CritCare2024_27-0 \"Jump up\")** Connelly, Frank (2024-06-03). [\"BD to Buy Edwards Life\\'s Critical Care Unit for $4.2 Billion\"](https://www.bloomberg.com/news/articles/2024-06-03/bd-to-buy-edwards-life-s-critical-care-unit-for-4-2-billion). *Bloomberg.com*. Retrieved 2024-07-30.\\n28. **[^](#cite_ref-forbes15_28-0 \"Jump up\")** [\"#15 Edwards Lifesciences\"](https://www.forbes.com/companies/edwards-lifesciences/#1ecff8f14109). *[Forbes](/wiki/Forbes \"Forbes\")*. May 15, 2019.\\n29. ^ [Jump up to: ***a***](#cite_ref-cardio1_29-0) [***b***](#cite_ref-cardio1_29-1) [\"Edwards expands its Every Heartbeat Matters initiative\"](https://cardiovascularnews.com/edwards-expands-its-every-heartbeat-matters-initiative/). Cardiovascular News. February 21, 2020.\\n30. **[^](#cite_ref-30 \"Jump up\")** [\"Edwards Lifesciences\\' Every Heartbeat Matters is Expanding\"](https://www.mpo-mag.com/contents/view_breaking-news/2020-02-21/edwards-lifesciences-every-heartbeat-matters-is-expanding/). MPO. February 21, 2020.\\n\\n## External links\\n\\n[[edit](/w/index.php?title=Edwards_Lifesciences&action=edit&section=9 \"Edit section: External links\")]\\n\\n* [Official website](https://www.edwards.com)\\n* Business data for Edwards Lifesciences Corporation:\\n\\n  + [Google](https://www.google.com/finance/quote/EW:NYSE)\\n  + [SEC filings](https://www.sec.gov/cgi-bin/browse-edgar?action=getcompany&CIK=1099800)\\n  + [Yahoo!](https://finance.yahoo.com/quote/EW)\\n\\n* [Companies portal](/wiki/Portal:Companies \"Portal:Companies\")\\n\\n|  |  |\\n| --- | --- |\\n| [Authority control databases](/wiki/Help:Authority_control \"Help:Authority control\") |  |\\n\\nRetrieved from \"<https://en.wikipedia.org/w/index.php?title=Edwards_Lifesciences&oldid=1304642406>\"\\n\\n[Categories](/wiki/Help:Category \"Help:Category\"):\\n\\n* [Medical technology companies of the United States](/wiki/Category:Medical_technology_companies_of_the_United_States \"Category:Medical technology companies of the United States\")\\n* [Companies listed on the New York Stock Exchange](/wiki/Category:Companies_listed_on_the_New_York_Stock_Exchange \"Category:Companies listed on the New York Stock Exchange\")\\n* [Life sciences industry](/wiki/Category:Life_sciences_industry \"Category:Life sciences industry\")\\n* [Health care companies based in California](/wiki/Category:Health_care_companies_based_in_California \"Category:Health care companies based in California\")\\n* [Technology companies based in Greater Los Angeles](/wiki/Category:Technology_companies_based_in_Greater_Los_Angeles \"Category:Technology companies based in Greater Los Angeles\")\\n* [Manufacturing companies based in California](/wiki/Category:Manufacturing_companies_based_in_California \"Category:Manufacturing companies based in California\")\\n* [Technology companies established in 1958](/wiki/Category:Technology_companies_established_in_1958 \"Category:Technology companies established in 1958\")\\n* [Manufacturing companies established in 1958](/wiki/Category:Manufacturing_companies_established_in_1958 \"Category:Manufacturing companies established in 1958\")\\n* [1958 establishments in California](/wiki/Category:1958_establishments_in_California \"Category:1958 establishments in California\")\\n\\nHidden categories:\\n\\n* [Pages with non-numeric formatnum arguments](/wiki/Category:Pages_with_non-numeric_formatnum_arguments \"Category:Pages with non-numeric formatnum arguments\")\\n* [Articles with short description](/wiki/Category:Articles_with_short_description \"Category:Articles with short description\")\\n* [Short description is different from Wikidata](/wiki/Category:Short_description_is_different_from_Wikidata \"Category:Short description is different from Wikidata\")\\n* [Official website different in Wikidata and Wikipedia](/wiki/Category:Official_website_different_in_Wikidata_and_Wikipedia \"Category:Official website different in Wikidata and Wikipedia\")'},\n",
       "  {'url': 'https://www.edwards.com/about-us/who-we-are',\n",
       "   'title': 'Who We Are',\n",
       "   'content': '## At Edwards Lifesciences, we are dedicated to providing innovative solutions for people fighting cardiovascular disease.\\n\\nThrough our actions, we will become trusted partners with customers, colleagues, and patients — creating a community unified in its mission to improve the quality of life around the world. Our results will benefit customers, patients, employees, and shareholders. [...] Skip to main content\\n\\n# Who we are\\n\\n## Edwards Lifesciences is the leading global structural heart innovation company, driven by a passion to improve patient lives.\\n\\nThrough breakthrough technologies, world-class evidence and partnerships with clinicians and healthcare stakeholders, our employees are inspired by our patient-focused culture to deliver life-changing innovations to those who need them most.\\n\\nOur credo',\n",
       "   'score': 0.41663104,\n",
       "   'raw_content': '[Skip to main content](#main)\\n\\n\\n# Who we are\\n\\n## Edwards Lifesciences is the leading global structural heart innovation company, driven by a passion to improve patient lives.\\n\\nThrough breakthrough technologies, world-class evidence and partnerships with clinicians and healthcare stakeholders, our employees are inspired by our patient-focused culture to deliver life-changing innovations to those who need them most.\\n\\nOur credo\\n\\n## At Edwards Lifesciences, we are dedicated to providing innovative solutions for people fighting cardiovascular disease.\\n\\nThrough our actions, we will become trusted partners with customers, colleagues, and patients — creating a community unified in its mission to improve the quality of life around the world. Our results will benefit customers, patients, employees, and shareholders.\\n\\nWe will celebrate our successes, thrive on discovery, and continually expand our boundaries. We will act boldly, decisively, and with determination on behalf of people fighting cardiovascular disease.\\n\\n## Edwards Lifesciences’ roots date to 1958, when Miles “Lowell” Edwards set out to build the first artificial heart.\\n\\n\\u200c\\n\\nWhat we do\\n\\n## We partner with physicians to innovate products designed to help patients live longer, healthier and more productive lives.\\n\\nOur leaders\\n\\n## Our board of directors and executive leadership team are guided by Our Credo and are passionate about helping patients.\\n\\n[Meet our leaders](/about-us/our-leaders)\\n\\nOur impact\\n\\n## Reflecting on the impact Edwards has on society, the environment, and the sustainable, long-term value we bring to multiple stakeholders\\n\\n[View our impact](https://www.edwards.com/sustainability)\\n\\nOur locations\\n\\n## Our global locations are united by our organization’s mission – to provide innovative solutions for people fighting cardiovascular disease.\\n\\n[View our locations](/about-us/global-locations)\\n\\n## Do you want to learn more about Edwards?\\n\\nIf you have questions or would like to receive more information, please select one of the topics below.\\n\\n[### Investors\\n\\nAnnual reports, financials, SEC filings and more.](https://ir.edwards.com/overview/default.aspx)\\n[### Newsroom\\n\\nPress releases, images, b-roll and more.](/newsroom)\\n[### Careers at Edwards\\n\\nDiscover an exciting career at Edwards Lifesciences.](https://www.edwards.com/careers)\\n[### Contact us\\n\\nReach out for any questions, we’d be happy to assist you.](/contact-us)'},\n",
       "  {'url': 'https://www.dnb.com/business-directory/company-profiles.edwards_lifesciences_(singapore)_pte_ltd.b5095864fcc9a6f9831a0b5e3a9a7e08.html',\n",
       "   'title': 'edwards lifesciences (singapore) pte. ltd.',\n",
       "   'content': 'D‑U‑N‑S Number\\n\\nBusiness Credit\\n\\nBusiness Growth\\n\\nBusiness Risk\\n\\nResources\\n\\nD&B Products\\n\\n Country Insight Services\\n D&B Finance Analytics Credit Intelligence\\n D&B Onboard\\n Analytics Studio\\n D&B Rev.Up ABX\\n D&B Hoovers\\n D&B Connect\\n Global Reference Solution\\n D&B Risk Analytics - Compliance Intelligence\\n D&B Risk Analytics - Supplier Intelligence\\n\\nMy Company Info\\n\\n View, Manage, Update information\\n myD&B\\n\\n(866) 258-3217\\n\\nGet in Touch with D&B Sales! (Or visit customer support.) [...] You consent to Dun & Bradstreet (D&B) using this data for marketing and analytical purposes, and to D&B emailing you or using an autodialer or pre-recorded voice to text or call you at the number you provide with marketing or other offers. Consent is not a requirement of purchase.\\n\\nDun & Bradstreet helps companies large and small drive growth, manage risk, and strengthen the performance of their business.\\n\\nContact Us [...] By clicking the button above, you agree to our Terms of Use. You consent to Dun & Bradstreet (D&B) using this data for marketing and analytical purposes, and to D&B emailing you or using an autodialer or pre-recorded voice to text or call you at the number you provide with marketing or other offers. Consent is not a requirement of purchase. See our Privacy Notice to unsubscribe.',\n",
       "   'score': 0.37862045,\n",
       "   'raw_content': \"[D‑U‑N‑S Number](https://www.dnb.com/en-us/smb/duns.html)\\n\\n[Business Credit](https://www.dnb.com/en-us/smb/business-credit.html)\\n\\n[Business Growth](https://www.dnb.com/en-us/smb/business-growth.html)\\n\\n[Business Risk](https://www.dnb.com/en-us/smb/business-risk/evaluate-vendors.html)\\n\\n[Resources](https://www.dnb.com/en-us/smb/resources.html)\\n\\nD&B Products\\n\\n* [Country Insight Services](http://www.dnbcountryrisk.com/)\\n* [D&B Finance Analytics Credit Intelligence](https://financeanalytics.dnb.com/)\\n* [D&B Onboard](https://onboard.dnb.com/onboard/)\\n* [Analytics Studio](https://sso.dnb.com/)\\n* [D&B Rev.Up ABX](https://app.lattice-engines.com/login/form)\\n* [D&B Hoovers](https://app.dnbhoovers.com/)\\n* [D&B Connect](https://connect.dnb.com/)\\n* [Global Reference Solution](https://solutions.dnb.com/grs/)\\n* [D&B Risk Analytics - Compliance Intelligence](https://riskanalytics.dnb.com/)\\n* [D&B Risk Analytics - Supplier Intelligence](https://riskanalytics.dnb.com/)\\n\\nMy Company Info\\n\\n* [View, Manage, Update information](https://www.dnb.com/duns-number/view-update-company-credit-file.html)\\n* [myD&B](https://my.dnb.com/login)\\n\\n[(866) 258-3217](tel:+18662583217)\\n\\nGet in Touch with D&B Sales! (Or visit [customer support](https://www.dnb.com/customer-success.html).)\\n\\nFill out this form, and we'll contact you soon.\\n\\nBy clicking the button above, you agree to our [Terms of Use](/utility-pages/terms-of-use.html) and consent to our [contact process](#). See our [Privacy Notice](/utility-pages/privacy-policy.html) to unsubscribe.\\n\\nBy clicking the button above, you agree to our [Terms of Use](https://www.dnb.com/utility-pages/terms-of-use.html). You consent to Dun & Bradstreet (D&B) using this data for marketing and analytical purposes, and to D&B emailing you or using an autodialer or pre-recorded voice to text or call you at the number you provide with marketing or other offers. Consent is not a requirement of purchase. See our [Privacy Notice](https://www.dnb.com/about-us/data-transparency.html) to unsubscribe.\\n\\nYou consent to Dun & Bradstreet (D&B) using this data for marketing and analytical purposes, and to D&B emailing you or using an autodialer or pre-recorded voice to text or call you at the number you provide with marketing or other offers. Consent is not a requirement of purchase.\\n\\nBy clicking the button above, you agree to our [Terms of Use](/utility-pages/dun-bradstreet-free-trial-terms.html) and consent to our [contact process](#). See our [Privacy Notice](/utility-pages/privacy-policy.html) to unsubscribe.\\n\\nBy clicking the button above, you agree to our [Terms of Use](/utility-pages/dun-bradstreet-free-trial-terms.html). You consent to Dun & Bradstreet (D&B) using this data for marketing and analytical purposes, and to D&B emailing you or using an autodialer or pre-recorded voice to text or call you at the number you provide with marketing or other offers. Consent is not a requirement of purchase. See our [Privacy Notice](/utility-pages/privacy-policy.html) to unsubscribe.\\n\\nYou consent to Dun & Bradstreet (D&B) using this data for marketing and analytical purposes, and to D&B emailing you or using an autodialer or pre-recorded voice to text or call you at the number you provide with marketing or other offers. Consent is not a requirement of purchase.\\n\\nDun & Bradstreet helps companies large and small drive growth, manage risk, and strengthen the performance of their business.\\n\\n[Contact Us](https://www.dnb.com/en-us/about/contact-us.html)\"},\n",
       "  {'url': 'https://www.edwards.com/careers/locations/singapore',\n",
       "   'title': 'Singapore',\n",
       "   'content': 'You will have the opportunity to participate in various outreach activities that benefit our local communities. By supporting events such as Rise Against Hunger and Go Red for Women, you can make a positive impact in underserved communities.\\n\\nFind out more\\n\\n#### Details\\n\\n##### Edwards Lifesciences Singapore Pte. Ltd.\\n\\n35 Changi North Crescent  \\nSingapore 499641\\n\\nPhone: +65 6883 6789\\n\\n## Want to join us?\\n\\nWe’re seeking talented people to help us make a meaningful difference in patients’ lives. [...] As our company continues to grow, you will have the opportunity to work on inspiring projects and develop the skills to embark on a successful career at Edwards.\\n\\n### Engagement & wellness\\n\\nOur Wellness, Harmony and Outreach Committee organizes a packed calendar of events to educate our people about wellness and encourage them to come together and foster relationships.\\n\\n### Community outreach',\n",
       "   'score': 0.36908817,\n",
       "   'raw_content': '[Skip to main content](#main)\\n\\n\\n# Singapore\\n\\nLocations\\n\\n## Singapore\\n\\nSituated in the east of Singapore, our facilities are well-known for their modern equipment and processes to manufacture outstanding products. In recent years, we have doubled the size of our facilities by adding extra cleanrooms and supporting different process and product transfers. Beyond these manufacturing capabilities, amenities like our Pulse Cafeteria also gives our people the opportunity to build relationships over mealtime and coffee breaks.\\n\\n## Our culture\\n\\nHelping patients is our life’s work. It is what unites us and brings meaning to what we do.\\n\\nThis patient-focused mission fosters a strong sense of camaraderie amongst us. We enjoy the opportunity to meet patients we have helped during Patient Experience Day. We collaborate to achieve our goals, placing emphasis on diversity, inclusion and belonging, as well as open communication. Events like our quarterly employee communication sessions and regular management updates enables all our employees feel respected and engaged.\\n\\n1 / 6\\n\\n## Featured jobs\\n\\n[#### Technician, Facilities\\n\\nSingapore\\n\\nFull time\\n\\nReq-42615](/job/42615/technician-facilities)\\n[#### Associate Heart Valve Specialist\\n\\nSingapore\\n\\nFull time\\n\\nReq-42590](/job/42590/associate-heart-valve-specialist)\\n[#### Technician, Calibration\\n\\nSingapore\\n\\nFull time\\n\\nReq-42616](/job/42616/technician-calibration)\\n[#### Associate Inspector\\n\\nSingapore\\n\\nFull time\\n\\nReq-42601](/job/42601/associate-inspector)\\n[#### Technologist, Process Technology\\n\\nSingapore\\n\\nFull time\\n\\nReq-42589](/job/42589/technologist-process-technology)\\n\\n[View all jobs](/careers/jobsearch?country=Singapore)\\n\\n## Explore our benefits\\n\\n### Career growth\\n\\nAs our company continues to grow, you will have the opportunity to work on inspiring projects and develop the skills to embark on a successful career at Edwards.\\n\\n### Engagement & wellness\\n\\nOur Wellness, Harmony and Outreach Committee organizes a packed calendar of events to educate our people about wellness and encourage them to come together and foster relationships.\\n\\n### Community outreach\\n\\nYou will have the opportunity to participate in various outreach activities that benefit our local communities. By supporting events such as *Rise Against Hunger* and *Go Red for Women,* you can make a positive impact in underserved communities.\\n\\n[Find out more](/careers/about-us/what-we-offer)\\n\\n#### Details\\n\\n##### Edwards Lifesciences Singapore Pte. Ltd.\\n\\n35 Changi North Crescent  \\nSingapore 499641\\n\\n**Phone:** +65 6883 6789\\n\\n## Want to join us?\\n\\nWe’re\\xa0seeking talented people to help us\\xa0make a meaningful difference in\\xa0patients’ lives.\\n\\n[Search Jobs](/careers/jobsearch)\\n[Join our Talent Community](https://flows.beamery.com/httpswwwedwardscomcareershome/joinedwardscommunity)\\n\\nEdwards is an Equal Opportunity/Affirmative Action employer including protected Veterans and individuals with disabilities.'}],\n",
       " 'response_time': 7.87,\n",
       " 'request_id': 'f72e3eb9-034e-4855-b635-7e5c8e94c862'}"
      ]
     },
     "execution_count": 21,
     "metadata": {},
     "output_type": "execute_result"
    }
   ],
   "source": [
    "from tavily import TavilyClient\n",
    "tavily_client = TavilyClient(api_key=TavilyKey)\n",
    "response = tavily_client.search(query=query, max_results=5, topic='general', include_answer='advanced',\n",
    "                               include_raw_content=True, search_depth='advanced')\n",
    "response"
   ]
  },
  {
   "cell_type": "code",
   "execution_count": 22,
   "id": "711177ca",
   "metadata": {},
   "outputs": [
    {
     "name": "stdout",
     "output_type": "stream",
     "text": [
      "('The retrieved data does not contain specific information about Edwards '\n",
      " \"Lifesciences' key customers in Singapore. Edwards Lifesciences operates a \"\n",
      " 'manufacturing facility in Singapore that has been producing heart valves '\n",
      " 'since 2005, primarily serving the broader Asia-Pacific region including '\n",
      " 'Japan as part of their global supply chain strategy. The Singapore facility '\n",
      " 'focuses on manufacturing artificial heart valves and medical devices that '\n",
      " 'are distributed to healthcare providers and hospitals throughout the '\n",
      " 'Asia-Pacific region, but the specific names of key customer hospitals, '\n",
      " 'healthcare systems, or distributors in Singapore are not publicly disclosed '\n",
      " \"in available sources. The company's customers would typically include major \"\n",
      " 'hospitals, cardiac surgery centers, and healthcare institutions that perform '\n",
      " 'heart valve procedures and require hemodynamic monitoring equipment, but '\n",
      " 'identifying the specific key customers would require access to Edwards '\n",
      " \"Lifesciences' confidential customer relationship data.\")\n"
     ]
    }
   ],
   "source": [
    "from pprint import pprint\n",
    "pprint(response.get('answer'))"
   ]
  },
  {
   "cell_type": "code",
   "execution_count": null,
   "id": "283feb8e",
   "metadata": {},
   "outputs": [],
   "source": []
  }
 ],
 "metadata": {
  "kernelspec": {
   "display_name": "venv",
   "language": "python",
   "name": "python3"
  },
  "language_info": {
   "codemirror_mode": {
    "name": "ipython",
    "version": 3
   },
   "file_extension": ".py",
   "mimetype": "text/x-python",
   "name": "python",
   "nbconvert_exporter": "python",
   "pygments_lexer": "ipython3",
   "version": "3.13.4"
  }
 },
 "nbformat": 4,
 "nbformat_minor": 5
}
