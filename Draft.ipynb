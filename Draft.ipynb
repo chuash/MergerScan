{
 "cells": [
  {
   "cell_type": "markdown",
   "id": "22cacc6b",
   "metadata": {},
   "source": [
    "### Trial for chatbot using linkup and Groq"
   ]
  },
  {
   "cell_type": "code",
   "execution_count": null,
   "id": "dbb9034f",
   "metadata": {},
   "outputs": [],
   "source": [
    "import os\n",
    "import requests\n",
    "from dotenv import load_dotenv\n",
    "from groq import Groq\n",
    "from linkup import LinkupClient\n",
    "from openai import OpenAI\n",
    "from pydantic import BaseModel\n",
    "from typing import Dict"
   ]
  },
  {
   "cell_type": "code",
   "execution_count": 3,
   "id": "c5203aa1",
   "metadata": {},
   "outputs": [],
   "source": [
    "LinkupKey = os.getenv(\"LINKUP_API_KEY\")\n",
    "TavilyKey = os.getenv(\"TAVILY_API_KEY\")\n",
    "GroqKey = os.getenv(\"GROQ_API_KEY\")\n",
    "Groq_client = Groq(api_key=GroqKey)"
   ]
  },
  {
   "cell_type": "code",
   "execution_count": 15,
   "id": "b33e587e",
   "metadata": {},
   "outputs": [],
   "source": [
    "def linkupbalance(api:str)->Dict:\n",
    "    url = \"https://api.linkup.so/v1/credits/balance\"\n",
    "    headers = {\"Authorization\": f\"Bearer {api}\"}\n",
    "    response = requests.get(url, headers=headers)\n",
    "    return response.json().get('balance','Nil')"
   ]
  },
  {
   "cell_type": "code",
   "execution_count": 16,
   "id": "17de1c0b",
   "metadata": {},
   "outputs": [
    {
     "data": {
      "text/plain": [
       "4.985"
      ]
     },
     "execution_count": 16,
     "metadata": {},
     "output_type": "execute_result"
    }
   ],
   "source": [
    "linkupbalance(LinkupKey)"
   ]
  },
  {
   "cell_type": "code",
   "execution_count": null,
   "id": "306ef773",
   "metadata": {},
   "outputs": [],
   "source": [
    "# Comparing Tavily vs Linkup\n",
    "\n",
    "\n",
    "query = \"\"\n",
    "\n",
    "def LinkupSearch(client:LinkupClient) \n",
    "\n",
    "client = LinkupClient(api_key=LinkupKey)\n",
    "\n",
    "response = client.search(\n",
    "    query=query,\n",
    "    depth=\"standard\",\n",
    "    output_type=\"sourcedAnswer\"\n",
    "    include_images=False\n",
    ")\n",
    "\n",
    "response"
   ]
  }
 ],
 "metadata": {
  "kernelspec": {
   "display_name": "venv",
   "language": "python",
   "name": "python3"
  },
  "language_info": {
   "codemirror_mode": {
    "name": "ipython",
    "version": 3
   },
   "file_extension": ".py",
   "mimetype": "text/x-python",
   "name": "python",
   "nbconvert_exporter": "python",
   "pygments_lexer": "ipython3",
   "version": "3.13.4"
  }
 },
 "nbformat": 4,
 "nbformat_minor": 5
}
